{
  "nbformat": 4,
  "nbformat_minor": 0,
  "metadata": {
    "colab": {
      "name": "BCA_PSAT_W02_2.1_Syntax_Basics.ipynb",
      "provenance": [],
      "collapsed_sections": []
    },
    "kernelspec": {
      "display_name": "Python 3",
      "name": "python3"
    },
    "language_info": {
      "name": "python"
    }
  },
  "cells": [
    {
      "cell_type": "markdown",
      "metadata": {
        "id": "TtSLR_6wqq5c"
      },
      "source": [
        "<br>\n",
        "&nbsp; <img src=\"https://www.amrita.edu/ahead/images/aheadlogosticky.svg\" alt=\"AMRITA AHEAD\" width=\"250\"> \n",
        "<table align=\"right\">\n",
        "  <td align=\"left\"><a href=\"\"></a>Prev: None</td>\n",
        "  <td align=\"center\">Lab 2</td>\n",
        "  <td align=\"right\"><a href=\"https://colab.research.google.com/drive/1oQLfXiG-lfJ147RYpzP0qfM5iGOiuoIz\">Next: Frog Jumping</a></td>\n",
        "</table>\n",
        "\n",
        "# **Week 2 - Lab 2.1 - Syntax - Python basics**\n",
        "This lab sheet contains the basics of Python that was covered during this week. Short programs are given to expose every aspect the constructs covered. You can execute each program, understand how it works, make some minor changes and check the changes in the output to reinforce what you learnt in the class.\n",
        "\n",
        "**Note**: You don't have to memorize the syntax. You just need to know that the constructs are available and what they can do for you. You can always refer back to this manual in case you want to use them for problem solving. Over a period of time, through repeated usage, they will automatically get into your memory gradually."
      ]
    },
    {
      "cell_type": "markdown",
      "metadata": {
        "id": "HWipYRDIsKBC"
      },
      "source": [
        "## **A. Printing Output (to Screen)**\n",
        "\n",
        "Given below are the set of practice programs which was introduced during this week. Try running them and get familiar with the working of the syntax.\n",
        "\n",
        "### 1a. A program to print \"Hello Amrita\"."
      ]
    },
    {
      "cell_type": "code",
      "metadata": {
        "colab": {
          "base_uri": "https://localhost:8080/"
        },
        "id": "jSqvUgHZqpe-",
        "outputId": "24860df2-0d46-4c0a-d295-5ec0a5b18c68"
      },
      "source": [
        "print('Hello Amrita')"
      ],
      "execution_count": null,
      "outputs": [
        {
          "output_type": "stream",
          "name": "stdout",
          "text": [
            "Hello Amrita\n"
          ]
        }
      ]
    },
    {
      "cell_type": "markdown",
      "metadata": {
        "id": "rt8Qn7Nps-xy"
      },
      "source": [
        "### 2a. Another way to do the same thing. \n",
        "Note that whitespace is the default separator."
      ]
    },
    {
      "cell_type": "code",
      "metadata": {
        "id": "Yq7gs7CutG6J"
      },
      "source": [
        "print('Hello', 'Amrita')"
      ],
      "execution_count": null,
      "outputs": []
    },
    {
      "cell_type": "markdown",
      "metadata": {
        "id": "wzqSX3C5tNt5"
      },
      "source": [
        "### 2b. The separator can be changed to anything else, say \"---\"."
      ]
    },
    {
      "cell_type": "code",
      "metadata": {
        "colab": {
          "base_uri": "https://localhost:8080/"
        },
        "id": "jt11e36-tgfK",
        "outputId": "030da31a-842e-4837-ea0c-73baf4249e80"
      },
      "source": [
        "print('Hello', 'Amrita', sep='---')"
      ],
      "execution_count": null,
      "outputs": [
        {
          "output_type": "stream",
          "name": "stdout",
          "text": [
            "Hello , Amrita\n"
          ]
        }
      ]
    },
    {
      "cell_type": "markdown",
      "metadata": {
        "id": "sEQtWEZVt8sx"
      },
      "source": [
        "### 3a. A program to print \"Hello\" and \"Amrita\" in two lines."
      ]
    },
    {
      "cell_type": "code",
      "metadata": {
        "colab": {
          "base_uri": "https://localhost:8080/"
        },
        "id": "4dnEixFwuH6D",
        "outputId": "17b388e0-25a2-465e-db09-0feae95b6c3f"
      },
      "source": [
        "print('Hello')\n",
        "print('Amrita')"
      ],
      "execution_count": null,
      "outputs": [
        {
          "output_type": "stream",
          "name": "stdout",
          "text": [
            "Hello\n",
            "Amrita\n"
          ]
        }
      ]
    },
    {
      "cell_type": "markdown",
      "metadata": {
        "id": "_Gy9l5jOuabB"
      },
      "source": [
        "### 3b. Another way to do the same thing. \n",
        "Use '\\n' which means newline."
      ]
    },
    {
      "cell_type": "code",
      "metadata": {
        "colab": {
          "base_uri": "https://localhost:8080/"
        },
        "id": "YfXKHDYouqhK",
        "outputId": "0f252ace-c589-4fcc-b3e8-af1c0dc28b65"
      },
      "source": [
        "print('Hello\\nAmrita') # / forward slash \\ backslash"
      ],
      "execution_count": null,
      "outputs": [
        {
          "output_type": "stream",
          "name": "stdout",
          "text": [
            "Hello\n",
            "Amrita\n"
          ]
        }
      ]
    },
    {
      "cell_type": "markdown",
      "metadata": {
        "id": "p3PxvHBxu3Ah"
      },
      "source": [
        "### 3c. Introduce a tab space between \"Hello\" and \"Amrita\". \n",
        "tab is typically 4 or 8 whitespaces."
      ]
    },
    {
      "cell_type": "code",
      "metadata": {
        "colab": {
          "base_uri": "https://localhost:8080/"
        },
        "id": "2nRl9Jg0vBqS",
        "outputId": "7e0d1ec4-e75d-4719-c1be-34209539e363"
      },
      "source": [
        "print('Hello\\tAmrita')"
      ],
      "execution_count": null,
      "outputs": [
        {
          "output_type": "stream",
          "name": "stdout",
          "text": [
            "Hello\tAmrita\n"
          ]
        }
      ]
    },
    {
      "cell_type": "markdown",
      "metadata": {
        "id": "FdhBBADJvTr5"
      },
      "source": [
        "### 4a. Printing an integer, say 123. \n",
        "Note that 123 is different from \"123\"."
      ]
    },
    {
      "cell_type": "code",
      "metadata": {
        "colab": {
          "base_uri": "https://localhost:8080/"
        },
        "id": "gaGuzur-vaTB",
        "outputId": "0096a7f9-0f54-49d0-9b7b-ec96863f6119"
      },
      "source": [
        "print(1234567890)"
      ],
      "execution_count": null,
      "outputs": [
        {
          "output_type": "stream",
          "name": "stdout",
          "text": [
            "123456789012345678901234567890123456799450938509385043850\n"
          ]
        }
      ]
    },
    {
      "cell_type": "markdown",
      "metadata": {
        "id": "oRc6cZyUvxix"
      },
      "source": [
        "### 4b. Printing a floating point number, say 3.14. \n",
        "Again, 3.14 is different from \"3.14\"."
      ]
    },
    {
      "cell_type": "code",
      "metadata": {
        "colab": {
          "base_uri": "https://localhost:8080/"
        },
        "id": "1p1hHN84wE-B",
        "outputId": "2ca0f6b0-f14b-4263-c686-f15f99cbf1b4"
      },
      "source": [
        "print(3.14)"
      ],
      "execution_count": null,
      "outputs": [
        {
          "output_type": "stream",
          "name": "stdout",
          "text": [
            "3.14000001\n"
          ]
        }
      ]
    },
    {
      "cell_type": "markdown",
      "metadata": {
        "id": "YcpSXmJWygVd"
      },
      "source": [
        "## **B. Variables and primitive types**\n",
        "\n",
        "### 5a. An integer variable.\n",
        "Assign integer to a variable and print the variable. Here, **radius** refers to a variable of integer type which takes the value 5."
      ]
    },
    {
      "cell_type": "code",
      "metadata": {
        "colab": {
          "base_uri": "https://localhost:8080/"
        },
        "id": "w--VviN21gVJ",
        "outputId": "7a3577ce-d238-450d-b0a4-1b9f67a6b2a2"
      },
      "source": [
        "radius = 40\n",
        "print(radius, type(radius))"
      ],
      "execution_count": null,
      "outputs": [
        {
          "output_type": "stream",
          "name": "stdout",
          "text": [
            "40 <class 'int'>\n"
          ]
        }
      ]
    },
    {
      "cell_type": "markdown",
      "metadata": {
        "id": "vjjdK0U-2K0A"
      },
      "source": [
        "### 5b. A floating point variable\n",
        "\n",
        "Assign a floating point number to a variable and print the variable. Here, **pi** refers to a varible of floating point type which takes the value 3.14."
      ]
    },
    {
      "cell_type": "code",
      "metadata": {
        "colab": {
          "base_uri": "https://localhost:8080/"
        },
        "id": "0zpdkfxW2ksJ",
        "outputId": "d5380223-7cec-4476-9c33-56db50e32f89"
      },
      "source": [
        "pi = 3.14\n",
        "print(pi,type(pi))"
      ],
      "execution_count": null,
      "outputs": [
        {
          "output_type": "stream",
          "name": "stdout",
          "text": [
            "3.14 <class 'float'>\n"
          ]
        }
      ]
    },
    {
      "cell_type": "markdown",
      "metadata": {
        "id": "02Quq_3q7x_B"
      },
      "source": [
        "### 5c. A string variable\n",
        "Assign a string to a variable and print the variable. Here, **degree** refers to a variable of String type which takes the value 'BCA'."
      ]
    },
    {
      "cell_type": "code",
      "metadata": {
        "id": "BDQtblvV8Vqu",
        "colab": {
          "base_uri": "https://localhost:8080/"
        },
        "outputId": "acee8cc6-0bbb-4ca3-bf6f-a7328bb72d00"
      },
      "source": [
        "degree = \"B.Tech\"\n",
        "print(degree)"
      ],
      "execution_count": null,
      "outputs": [
        {
          "output_type": "stream",
          "name": "stdout",
          "text": [
            "B.Tech\n"
          ]
        }
      ]
    },
    {
      "cell_type": "markdown",
      "metadata": {
        "id": "AaKp6tP0gCKK"
      },
      "source": [
        "### 5d. A Boolean variable\n",
        "Assign True or False to a variable and print. Here, **employed** refers to a variable of Boolean type which takes value True."
      ]
    },
    {
      "cell_type": "code",
      "metadata": {
        "colab": {
          "base_uri": "https://localhost:8080/"
        },
        "id": "UQWtgDO0gdZZ",
        "outputId": "a5996e68-d79a-4d80-b36d-8378c8abd181"
      },
      "source": [
        "employed = False\n",
        "print(employed)"
      ],
      "execution_count": null,
      "outputs": [
        {
          "output_type": "stream",
          "name": "stdout",
          "text": [
            "False\n"
          ]
        }
      ]
    },
    {
      "cell_type": "markdown",
      "metadata": {
        "id": "QPn-QC6l8y0W"
      },
      "source": [
        "### 5e. Assigning values to multiple variables simultaneously\n",
        "In a single line, you can assign values to multiple varaibles. The type of the variable is automatically inferred when the program is executed. The first one is a string, second one an integer, and last one a floating point."
      ]
    },
    {
      "cell_type": "code",
      "metadata": {
        "colab": {
          "base_uri": "https://localhost:8080/"
        },
        "id": "WQugDOYs9RN9",
        "outputId": "8796d8c4-0f43-4532-868d-d29f836b9bc4"
      },
      "source": [
        "name, age, height, employed = 'Bharat', 25, 5.8, True\n",
        "print(name,age,height,employed,sep=' || ')"
      ],
      "execution_count": null,
      "outputs": [
        {
          "output_type": "stream",
          "name": "stdout",
          "text": [
            "Bharat || 25 || 5.8 || True\n"
          ]
        }
      ]
    },
    {
      "cell_type": "markdown",
      "metadata": {
        "id": "SxkDweImfhYv"
      },
      "source": [
        "## **C. Reading Input (from keyboard)**\n",
        "\n",
        "### 6a. Reading a string input\n",
        "\n",
        "Reading a string input into a variable and printing it. Once you run, type your input using the keyboard when prompted."
      ]
    },
    {
      "cell_type": "code",
      "metadata": {
        "id": "hnlwo2ZQfg5y"
      },
      "source": [
        "name = input()\n",
        "print('Hello', name)"
      ],
      "execution_count": null,
      "outputs": []
    },
    {
      "cell_type": "markdown",
      "metadata": {
        "id": "wzEWf7XfkyQh"
      },
      "source": [
        "### 6b. Reading an integer input \n",
        "\n",
        "Reading an integer into a variable and print it. Type an integer when prompted. Try giving floating point or string and see what happens."
      ]
    },
    {
      "cell_type": "code",
      "metadata": {
        "id": "jCOma4CqfOjB",
        "colab": {
          "base_uri": "https://localhost:8080/",
          "height": 197
        },
        "outputId": "652c9e77-7fba-4546-bd69-154c6c67c5e8"
      },
      "source": [
        "age = int(input()) # By default input() returns a string. It needs to be convert to int using int() function\n",
        "print(age)"
      ],
      "execution_count": null,
      "outputs": [
        {
          "name": "stdout",
          "output_type": "stream",
          "text": [
            "5.0\n"
          ]
        },
        {
          "output_type": "error",
          "ename": "ValueError",
          "evalue": "ignored",
          "traceback": [
            "\u001b[0;31m---------------------------------------------------------------------------\u001b[0m",
            "\u001b[0;31mValueError\u001b[0m                                Traceback (most recent call last)",
            "\u001b[0;32m<ipython-input-51-f0bbb5ff5ec1>\u001b[0m in \u001b[0;36m<module>\u001b[0;34m()\u001b[0m\n\u001b[0;32m----> 1\u001b[0;31m \u001b[0mage\u001b[0m \u001b[0;34m=\u001b[0m \u001b[0mint\u001b[0m\u001b[0;34m(\u001b[0m\u001b[0minput\u001b[0m\u001b[0;34m(\u001b[0m\u001b[0;34m)\u001b[0m\u001b[0;34m)\u001b[0m \u001b[0;31m# By default input() returns a string. It needs to be convert to int using int() function\u001b[0m\u001b[0;34m\u001b[0m\u001b[0;34m\u001b[0m\u001b[0m\n\u001b[0m\u001b[1;32m      2\u001b[0m \u001b[0mprint\u001b[0m\u001b[0;34m(\u001b[0m\u001b[0mage\u001b[0m\u001b[0;34m)\u001b[0m\u001b[0;34m\u001b[0m\u001b[0;34m\u001b[0m\u001b[0m\n",
            "\u001b[0;31mValueError\u001b[0m: invalid literal for int() with base 10: '5.0'"
          ]
        }
      ]
    },
    {
      "cell_type": "markdown",
      "metadata": {
        "id": "ZX7rWGekmGyi"
      },
      "source": [
        "### 6c. Reading a floating point variable\n",
        "\n",
        "Reading a floating point value into a variable and print it. Type an floating point number when prompted. Try giving integer or string and see what happens.\n",
        "\n"
      ]
    },
    {
      "cell_type": "code",
      "metadata": {
        "id": "YVUqOfh8nCqA",
        "colab": {
          "base_uri": "https://localhost:8080/"
        },
        "outputId": "06439877-2ffe-4c62-e063-04b640904470"
      },
      "source": [
        "height = float(input())\n",
        "print('The height is', height)"
      ],
      "execution_count": null,
      "outputs": [
        {
          "output_type": "stream",
          "name": "stdout",
          "text": [
            "5\n",
            "The height is 5.0\n"
          ]
        }
      ]
    },
    {
      "cell_type": "markdown",
      "metadata": {
        "id": "h7H1efBwnqUX"
      },
      "source": [
        "### 6d. Reading a boolean variable\n",
        "\n",
        "Reading a boolen value into a variable and print it. Type True or False when prompted.  **This is not working**"
      ]
    },
    {
      "cell_type": "code",
      "metadata": {
        "id": "h8Xe96Qun4SG"
      },
      "source": [
        "employed = bool(input())\n",
        "print('Employment status =', employed)"
      ],
      "execution_count": null,
      "outputs": []
    },
    {
      "cell_type": "markdown",
      "metadata": {
        "id": "-FkF_HFX0Cup"
      },
      "source": [
        "### 6e. Read input values one from each line"
      ]
    },
    {
      "cell_type": "code",
      "metadata": {
        "id": "YyCZk_zr0XKQ",
        "colab": {
          "base_uri": "https://localhost:8080/"
        },
        "outputId": "c8f29a1e-c3ba-410f-92b1-8344823377a7"
      },
      "source": [
        "name = input()\n",
        "age = int(input())\n",
        "height = float(input())\n",
        "employed = bool(input())\n",
        "print(name, age, height, employed)"
      ],
      "execution_count": null,
      "outputs": [
        {
          "output_type": "stream",
          "name": "stdout",
          "text": [
            "Amrita\n",
            "25\n",
            "5.6\n",
            "True\n",
            "Amrita 25 5.6 True\n"
          ]
        }
      ]
    },
    {
      "cell_type": "markdown",
      "metadata": {
        "id": "0cNdI3gaphwn"
      },
      "source": [
        "### 6f. Reading multiple inputs in a single line\n",
        "\n",
        "Use split() function to tokenize (based on whitespace) the input into multiple parts. Note that every value is read as a string. Converting to respective types should be done afterwards."
      ]
    },
    {
      "cell_type": "code",
      "metadata": {
        "colab": {
          "base_uri": "https://localhost:8080/"
        },
        "id": "JKB4TFKMqTz2",
        "outputId": "cb83f61d-ea20-40d8-a9db-1f1d43b078a8"
      },
      "source": [
        "name, age, height, = input().split() # This will read everything as string\n",
        "print(name, age, height)\n",
        "age = int(age)\n",
        "height = float(height)\n",
        "print(name, age, height)"
      ],
      "execution_count": null,
      "outputs": [
        {
          "output_type": "stream",
          "name": "stdout",
          "text": [
            "Amrita 25 5.6\n",
            "Amrita 25 5.6\n",
            "Amrita 25 5.6\n"
          ]
        }
      ]
    },
    {
      "cell_type": "markdown",
      "metadata": {
        "id": "n-bL48Z92IR_"
      },
      "source": [
        "### 6g. Reading multiple integers in a single line\n",
        "\n",
        "Use map() function to specify the type of the values. Here is the usage."
      ]
    },
    {
      "cell_type": "code",
      "metadata": {
        "colab": {
          "base_uri": "https://localhost:8080/"
        },
        "id": "Wdm8kB0e2cTz",
        "outputId": "fe553ae5-735a-4d04-8e9a-6048fbd4a696"
      },
      "source": [
        "a, b, c, d = map(int, input().split())\n",
        "print(a,b,c,d)"
      ],
      "execution_count": null,
      "outputs": [
        {
          "output_type": "stream",
          "name": "stdout",
          "text": [
            "1 2 3 4\n",
            "1 2 3 4\n"
          ]
        }
      ]
    },
    {
      "cell_type": "markdown",
      "metadata": {
        "id": "vkvzqaShyXhv"
      },
      "source": [
        "## **D. Operators**\n",
        "\n",
        "### 7a. Arithmetic operators\n",
        "Arithmetic operators include + (addition), - (subtraction), * (multiplication), / (division), // (quotient), % (remainder) and ** (power). A program to demonstrate the working below."
      ]
    },
    {
      "cell_type": "code",
      "metadata": {
        "id": "-YuWPc0MzeHm",
        "colab": {
          "base_uri": "https://localhost:8080/"
        },
        "outputId": "da761a8e-c11a-4e26-d0be-32da51dc4222"
      },
      "source": [
        "a, b = 5, 20\n",
        "sum = a + b\n",
        "diff = a - b\n",
        "product = a * b\n",
        "result = a / b\n",
        "quotient = a // b\n",
        "remainder = a % b\n",
        "power = a ** b\n",
        "print (sum, diff, product, result, quotient, remainder, power)"
      ],
      "execution_count": null,
      "outputs": [
        {
          "output_type": "stream",
          "name": "stdout",
          "text": [
            "25 -15 100 0.25 0 5 95367431640625\n",
            "95367431640603.17\n"
          ]
        }
      ]
    },
    {
      "cell_type": "markdown",
      "metadata": {
        "id": "yF1BvAda4_t5"
      },
      "source": [
        "You can do the same thing without using additional variables to store the results.\n",
        "```\n",
        "a, b = 5, 2\n",
        "print(a+b, a-b, a*b, a/b, a//b, a%b, a**b)\n",
        "```\n",
        "Try adding a code block right below and check for yourself."
      ]
    },
    {
      "cell_type": "markdown",
      "metadata": {
        "id": "xk95Bbdg5mxH"
      },
      "source": [
        "### 7b. Comparison operators\n",
        "\n",
        "Comparison operators return a boolean value True or False depending on whether comparison succeeded or not. The comparison operators include == (equality), < (less than), <= (less than or equal to), > (greater than), >= (greater than or equal to), != (not equal).\n",
        "\n",
        "Note: = is assignment operator. == is equality comparison operator."
      ]
    },
    {
      "cell_type": "code",
      "metadata": {
        "id": "jb_2GvGC7C-G",
        "colab": {
          "base_uri": "https://localhost:8080/"
        },
        "outputId": "4fc1e316-e708-4d0f-dcf7-f2c0534dab13"
      },
      "source": [
        "a, b = 5, 2\n",
        "print(a == b+3)\n",
        "print(a < b)\n",
        "print(a <= b)  # <= is a single operator\n",
        "print(a > b)\n",
        "print(a >= b)\n",
        "print(a != b)"
      ],
      "execution_count": null,
      "outputs": [
        {
          "output_type": "stream",
          "name": "stdout",
          "text": [
            "True\n",
            "False\n",
            "False\n",
            "True\n",
            "True\n",
            "True\n"
          ]
        }
      ]
    },
    {
      "cell_type": "code",
      "metadata": {
        "colab": {
          "base_uri": "https://localhost:8080/"
        },
        "id": "qDr7ruddE8-O",
        "outputId": "8697a182-dd55-44e1-f40c-e29a1e0ef6ff"
      },
      "source": [
        "a,b = 5,2\n",
        "print(a=b)"
      ],
      "execution_count": null,
      "outputs": [
        {
          "output_type": "stream",
          "name": "stdout",
          "text": [
            "7\n"
          ]
        }
      ]
    },
    {
      "cell_type": "markdown",
      "metadata": {
        "id": "217_V0O99CmD"
      },
      "source": [
        "### 7c. Logical operators\n",
        "\n",
        "Logical operators allow you to combine two or more comparison operations. Then include **and**, **or** and **not**. The first two are binary operators while the last one is unary. The result of any logical operation is a boolean value True or False.\n",
        "\n",
        "Here is the program to demonstrate the operators."
      ]
    },
    {
      "cell_type": "code",
      "metadata": {
        "colab": {
          "base_uri": "https://localhost:8080/"
        },
        "id": "N7YZV-1hjIfB",
        "outputId": "15eb965b-7721-40a6-feef-6b4d7529f026"
      },
      "source": [
        "x, y, z = 2, 10, 7\n",
        "\n",
        "print(x < y and y < z)  # Should print False since y is not less than z\n",
        "print(x < y or y < z)  # Should print True since x is less than y\n",
        "print(not x < y)  # Should print False since x < y is True and opposite of it is False.\n",
        "print (x < y and not y < z)  # Should print true since x < y and y >= z\n",
        "# These operators play a complementary role\n",
        "print(x+y < z*2 and x*z <= y**5)"
      ],
      "execution_count": null,
      "outputs": [
        {
          "output_type": "stream",
          "name": "stdout",
          "text": [
            "False\n",
            "True\n",
            "False\n",
            "True\n",
            "True\n"
          ]
        }
      ]
    },
    {
      "cell_type": "markdown",
      "metadata": {
        "id": "o9787zAF_DO5"
      },
      "source": [
        "## **E. Conditional Branching**\n",
        "\n",
        "### 8a. Perform an action based on condition\n",
        "Check with different values of x and y. The indentation is important for the program to run."
      ]
    },
    {
      "cell_type": "code",
      "metadata": {
        "id": "QDHALo4DAE1N",
        "colab": {
          "base_uri": "https://localhost:8080/"
        },
        "outputId": "749258bb-0133-4e71-bdde-18a4760e3abd"
      },
      "source": [
        "x = int(input())\n",
        "y = int(input())\n",
        "if x < y :\n",
        "  print(x,  'is less than', y)"
      ],
      "execution_count": null,
      "outputs": [
        {
          "name": "stdout",
          "output_type": "stream",
          "text": [
            "2\n",
            "2\n"
          ]
        }
      ]
    },
    {
      "cell_type": "markdown",
      "metadata": {
        "id": "opJqelyLA1HP"
      },
      "source": [
        "### 8b. Perform two different actions based on a condition.\n",
        "Again check with different values of x and y."
      ]
    },
    {
      "cell_type": "code",
      "metadata": {
        "id": "lzzTUlV0BDH8",
        "colab": {
          "base_uri": "https://localhost:8080/"
        },
        "outputId": "1718be45-cc55-4ae6-f687-f7a884690443"
      },
      "source": [
        "x = int(input())\n",
        "y = int(input())\n",
        "if x < y :\n",
        "  print(x, 'is less than', y)\n",
        "else :\n",
        "  print(x, 'is not less than', y)"
      ],
      "execution_count": null,
      "outputs": [
        {
          "output_type": "stream",
          "name": "stdout",
          "text": [
            "5\n",
            "5\n",
            "5 is not less than 5\n"
          ]
        }
      ]
    },
    {
      "cell_type": "markdown",
      "metadata": {
        "id": "93q8sFTuCQFe"
      },
      "source": [
        "### 8c. Perform three different actions based on conditions\n",
        "\n",
        "This can be extended to any number of branchings."
      ]
    },
    {
      "cell_type": "code",
      "metadata": {
        "id": "AVRatfzdCbRI",
        "colab": {
          "base_uri": "https://localhost:8080/"
        },
        "outputId": "5f5c499b-f636-4f87-b8aa-a12991ec24fc"
      },
      "source": [
        "x = int(input())\n",
        "y = int(input())\n",
        "if x < y :                      # Condition 1\n",
        "  print (x, 'is less than', y)        # Branching 1\n",
        "elif x > y :                    # Condition 2\n",
        "  print (x, 'is greater than', y)     # Branching 2\n",
        "else :                          # Condition 3 (implicit)\n",
        "  print (x, 'is equal to', y)         # Branching 3"
      ],
      "execution_count": null,
      "outputs": [
        {
          "output_type": "stream",
          "name": "stdout",
          "text": [
            "3\n",
            "3\n",
            "3 is equal to 3\n"
          ]
        }
      ]
    },
    {
      "cell_type": "markdown",
      "metadata": {
        "id": "t1YtW4ClDiBO"
      },
      "source": [
        "### 8d. Perform nested branching\n"
      ]
    },
    {
      "cell_type": "code",
      "metadata": {
        "id": "sfEHkKbCEDO8",
        "colab": {
          "base_uri": "https://localhost:8080/"
        },
        "outputId": "608d7c10-e2cb-46f7-9a0f-70d06af8c807"
      },
      "source": [
        "x,y,z = map(int, input().split())\n",
        "\n",
        "if x < y :\n",
        "  if y < z :\n",
        "    print(x,y,z,'form a sorted sequence')\n",
        "  else :\n",
        "    print(x,y,z,'do not form a sorted sequence')\n",
        "else :\n",
        "  print(x,'is not less than', y)"
      ],
      "execution_count": null,
      "outputs": [
        {
          "output_type": "stream",
          "name": "stdout",
          "text": [
            "1 0 5\n",
            "1 is not less than 0\n"
          ]
        }
      ]
    },
    {
      "cell_type": "markdown",
      "metadata": {
        "id": "A8t4il9XeNGr"
      },
      "source": [
        "## **F. Iterations / loops**\n",
        "\n",
        "### 9a. Print 'Hello Amrita' 10 times"
      ]
    },
    {
      "cell_type": "code",
      "metadata": {
        "id": "7Avp_Uu3jtZK",
        "colab": {
          "base_uri": "https://localhost:8080/"
        },
        "outputId": "42e15718-6b73-4064-ef06-aec892927b01"
      },
      "source": [
        "for i in range(10) :  # Start from 0, count until 9, increasing by 1 at a time\n",
        "  print('Hello Amrita')     # i serves as a counter"
      ],
      "execution_count": null,
      "outputs": [
        {
          "output_type": "stream",
          "name": "stdout",
          "text": [
            "Hello Amrita\n",
            "Hello Amrita\n",
            "Hello Amrita\n",
            "Hello Amrita\n",
            "Hello Amrita\n",
            "Hello Amrita\n",
            "Hello Amrita\n",
            "Hello Amrita\n",
            "Hello Amrita\n",
            "Hello Amrita\n"
          ]
        }
      ]
    },
    {
      "cell_type": "markdown",
      "metadata": {
        "id": "1vDEptG4j4Ld"
      },
      "source": [
        "### 9b. Print 'Hello Amrita' n times"
      ]
    },
    {
      "cell_type": "code",
      "metadata": {
        "id": "i4QHQJB3j_Zc"
      },
      "source": [
        "n = int(input())\n",
        "for i in range(n) :   # Start from 0, count until n-1, increasing by 1 at a time\n",
        "  print('Hello Amrita')"
      ],
      "execution_count": null,
      "outputs": []
    },
    {
      "cell_type": "markdown",
      "metadata": {
        "id": "A397JFt2kMWJ"
      },
      "source": [
        "### 9c. Print 'Hello Amrita' along with count"
      ]
    },
    {
      "cell_type": "code",
      "metadata": {
        "id": "StXRkqU3kV7Z",
        "colab": {
          "base_uri": "https://localhost:8080/"
        },
        "outputId": "bb702086-45cd-40b8-a1a2-edbb105db3e0"
      },
      "source": [
        "n = int(input())\n",
        "for i in range(n) :   # Start from 0, go until n-1, increasing by 1 at a time\n",
        "  print('Hello Amrita', i)"
      ],
      "execution_count": null,
      "outputs": [
        {
          "output_type": "stream",
          "name": "stdout",
          "text": [
            "10\n",
            "Hello Amrita 0\n",
            "Hello Amrita 1\n",
            "Hello Amrita 2\n",
            "Hello Amrita 3\n",
            "Hello Amrita 4\n",
            "Hello Amrita 5\n",
            "Hello Amrita 6\n",
            "Hello Amrita 7\n",
            "Hello Amrita 8\n",
            "Hello Amrita 9\n"
          ]
        }
      ]
    },
    {
      "cell_type": "markdown",
      "metadata": {
        "id": "D2NFKtZfkn6X"
      },
      "source": [
        "### 9d. Print 'Hello Amrita' starting from 1"
      ]
    },
    {
      "cell_type": "code",
      "metadata": {
        "id": "xvQI7ZqVk1GD",
        "colab": {
          "base_uri": "https://localhost:8080/"
        },
        "outputId": "94885e68-e09f-444f-ce40-c9a23c844899"
      },
      "source": [
        "n = int(input())\n",
        "for i in range(10,n+10) :   # Start from 1, go until n, taking 1 step at a time\n",
        "  print('Hello Amrita', i)"
      ],
      "execution_count": null,
      "outputs": [
        {
          "output_type": "stream",
          "name": "stdout",
          "text": [
            "5\n",
            "Hello Amrita 10\n",
            "Hello Amrita 11\n",
            "Hello Amrita 12\n",
            "Hello Amrita 13\n",
            "Hello Amrita 14\n"
          ]
        }
      ]
    },
    {
      "cell_type": "markdown",
      "metadata": {
        "id": "wIj9pWLwmQhN"
      },
      "source": [
        "### 9e. Print alternate numbers from 1 to n"
      ]
    },
    {
      "cell_type": "code",
      "metadata": {
        "id": "JH7ea1KumZHL",
        "colab": {
          "base_uri": "https://localhost:8080/"
        },
        "outputId": "a5430821-eb77-476f-8e98-60a96400cb13"
      },
      "source": [
        "n = int(input())\n",
        "for i in range(1,n,2) :  # Start from 1, go until n-1, jumping 2 steps\n",
        "  print('Hello Amrita', i)"
      ],
      "execution_count": null,
      "outputs": [
        {
          "output_type": "stream",
          "name": "stdout",
          "text": [
            "10\n",
            "Hello Amrita 1\n",
            "Hello Amrita 3\n",
            "Hello Amrita 5\n",
            "Hello Amrita 7\n",
            "Hello Amrita 9\n"
          ]
        }
      ]
    },
    {
      "cell_type": "markdown",
      "metadata": {
        "id": "usRM5OJflHjH"
      },
      "source": [
        "### 9e. Get n pairs of numbers as input and compute their sum"
      ]
    },
    {
      "cell_type": "code",
      "metadata": {
        "id": "CXarIL3llS-w",
        "colab": {
          "base_uri": "https://localhost:8080/"
        },
        "outputId": "0c217e6f-a5f6-4ea4-8fca-fe2275c50ee2"
      },
      "source": [
        "n = int(input())\n",
        "for i in range(n) :\n",
        "  a,b = map(int, input().split())\n",
        "  print(a+b)"
      ],
      "execution_count": null,
      "outputs": [
        {
          "output_type": "stream",
          "name": "stdout",
          "text": [
            "3\n",
            "2 5\n",
            "7\n",
            "5 -5\n",
            "0\n",
            "5 5\n",
            "10\n"
          ]
        }
      ]
    },
    {
      "cell_type": "code",
      "metadata": {
        "colab": {
          "base_uri": "https://localhost:8080/"
        },
        "id": "UybM1mwXNces",
        "outputId": "a268f54a-feb7-4b8c-c5f1-0b2d5a8e5519"
      },
      "source": [
        "n = int(input())\n",
        "for i in range(n) :\n",
        "  a, b = map(int, input().split())\n",
        "  if a > b :\n",
        "    print(a-b)\n",
        "  else :\n",
        "    print(b-a)"
      ],
      "execution_count": null,
      "outputs": [
        {
          "output_type": "stream",
          "name": "stdout",
          "text": [
            "1\n",
            "5 10\n",
            "5\n"
          ]
        }
      ]
    },
    {
      "cell_type": "code",
      "metadata": {
        "id": "pTPh7JEuLKX_"
      },
      "source": [
        ""
      ],
      "execution_count": null,
      "outputs": []
    },
    {
      "cell_type": "markdown",
      "metadata": {
        "id": "It_KV8naaBRI"
      },
      "source": [
        "## **G. while loop**\n",
        "\n",
        "### **10a. Conditional looping with while**\n",
        "\n",
        "The **while** loop can be used to repeat a task based on the truth value of a certain condition. For example, the following program reads a and b, and iterates through the loop until the condition **a < b** becomes eventually true. \n",
        "\n",
        "Note that a is incremeneted and b is decremented by 1 within the loop. So sooner or later, a < b condition fails and the loop ends. If a >= b at the beginning, the loop is never entered.\n",
        "\n",
        "The number of times the loop runs, differs from one run to the other depending on the input values given to a and b. "
      ]
    },
    {
      "cell_type": "code",
      "metadata": {
        "colab": {
          "base_uri": "https://localhost:8080/"
        },
        "id": "uLvdFekPai0x",
        "outputId": "d23c5f8c-7339-4e70-83d7-80dac0334552"
      },
      "source": [
        "a,b = map(int, input().split())\n",
        "while a < b  :\n",
        "  a = a + 1\n",
        "  b = b - 1\n",
        "  print(a, b)"
      ],
      "execution_count": null,
      "outputs": [
        {
          "output_type": "stream",
          "name": "stdout",
          "text": [
            "5 10\n",
            "6 9\n",
            "7 8\n",
            "8 7\n"
          ]
        }
      ]
    },
    {
      "cell_type": "markdown",
      "metadata": {
        "id": "krfdFFPZMPp6"
      },
      "source": [
        "**Question**: What would happen if a was never incremented and b was not decremented inside the while loop?"
      ]
    },
    {
      "cell_type": "markdown",
      "metadata": {
        "id": "xjngSuypOIRg"
      },
      "source": [
        "### **10b. Connection between for loop and while loop**\n",
        "\n",
        "The **for** loop given below"
      ]
    },
    {
      "cell_type": "code",
      "metadata": {
        "id": "UC4GNCcdSk5d"
      },
      "source": [
        "n = int(input())\n",
        "for i in range(n) :\n",
        "  print(i)"
      ],
      "execution_count": null,
      "outputs": []
    },
    {
      "cell_type": "markdown",
      "metadata": {
        "id": "KYcCwjJkSlNc"
      },
      "source": [
        "can be restated using **while** loop as follows. Note that, i should be explicitly initialized before the loop and explicitly incremented during the loop."
      ]
    },
    {
      "cell_type": "code",
      "metadata": {
        "id": "oiYuMz8lS9i5"
      },
      "source": [
        "n = int(input())\n",
        "i = 0  # initialize i\n",
        "while i < n :\n",
        "  print(i)\n",
        "  i = i + 1   # same as i += 1"
      ],
      "execution_count": null,
      "outputs": []
    },
    {
      "cell_type": "markdown",
      "metadata": {
        "id": "KoQS_lBuV9Lv"
      },
      "source": [
        "### **10c. Breaking out of while loop**\n",
        "\n",
        "The break statement is used to exit the loop even if the while condition is true. The following program takes a and b as input repeatedly, checks if a >= b and prints a/b. Additionally if b happens to be 0, it breaks out of the loop."
      ]
    },
    {
      "cell_type": "code",
      "metadata": {
        "id": "T29B7hbPXWM8",
        "colab": {
          "base_uri": "https://localhost:8080/"
        },
        "outputId": "e79de0c1-73c9-4462-b4b4-156c61e8ad80"
      },
      "source": [
        "a,b = 1,1\n",
        "while a >= b :\n",
        "  a,b = map(int,input().split())\n",
        "  if b == 0 :\n",
        "    print('Breaking out of the loop')\n",
        "    break\n",
        "  print(a/b)"
      ],
      "execution_count": null,
      "outputs": [
        {
          "output_type": "stream",
          "name": "stdout",
          "text": [
            "5 0\n",
            "Breaking out of the loop\n"
          ]
        }
      ]
    },
    {
      "cell_type": "markdown",
      "metadata": {
        "id": "8MW9TYDA7-qj"
      },
      "source": [
        "### **10d. Continuing with the while loop**\n",
        "\n",
        "The continue statement is used to skip the remaining statements and go to the beginning of the loop. The following program takes a and b as input repeatedly, checks if a is >= b and prints a/b. \n",
        "- If both a and b happens to be 0, it goes to the beginning of the while loop. \n",
        "- If b alone happens to be 0, it breaks out of the loop. "
      ]
    },
    {
      "cell_type": "code",
      "metadata": {
        "colab": {
          "base_uri": "https://localhost:8080/"
        },
        "id": "R1XyW_Kc-DAo",
        "outputId": "215181e7-3723-4f79-fd5f-026ab6c83697"
      },
      "source": [
        "a,b = 1,1\n",
        "while a >= b :\n",
        "  a,b = map(int,input().split())\n",
        "  if a == 0 and b == 0 :\n",
        "    continue\n",
        "  if b == 0 :\n",
        "    print('Breaking out of the loop')\n",
        "    break\n",
        "  print(a/b)"
      ],
      "execution_count": null,
      "outputs": [
        {
          "output_type": "stream",
          "name": "stdout",
          "text": [
            "0 0\n",
            "0 0\n",
            "0 0\n",
            "10 8\n",
            "1.25\n",
            "7 4\n",
            "1.75\n",
            "9 3\n",
            "3.0\n",
            "4 9\n",
            "0.4444444444444444\n"
          ]
        }
      ]
    },
    {
      "cell_type": "markdown",
      "metadata": {
        "id": "hhjvTVebBMtx"
      },
      "source": [
        "## **H. Functions**\n",
        "\n",
        "Functions can be thought of as sub-programs which performs a part of a computation independently. A function takes input in the form of parameters and returns a result as output. Functions are first defined and then called.\n",
        "\n",
        "Why do we need functions?<br>\n",
        "To break down the program into independent, manageable units with well-defined interface. Functions ensure modularity of code.\n",
        "\n",
        "The following program defines a function which takes radius as input, computes the area of a circle and returns the area."
      ]
    },
    {
      "cell_type": "code",
      "metadata": {
        "colab": {
          "base_uri": "https://localhost:8080/"
        },
        "id": "mWXL8CThHR0d",
        "outputId": "04f88bab-5600-431a-98a6-29527ca7cfd0"
      },
      "source": [
        "def area(radius) :                  # This is function definition - area is its name, radius is its input parameter\n",
        "  carea = 3.14 * radius * radius\n",
        "  return carea                       # This is how function retuns the output to the caller\n",
        "\n",
        "r = float(input())\n",
        "a = area(r)                         # This is how a function is called and its output returned \n",
        "print(a, \"sq. units\")"
      ],
      "execution_count": null,
      "outputs": [
        {
          "output_type": "stream",
          "name": "stdout",
          "text": [
            "10.0\n",
            "314.0 sq. units\n"
          ]
        }
      ]
    },
    {
      "cell_type": "markdown",
      "metadata": {
        "id": "61CyP4kRI9wG"
      },
      "source": [
        "The following function sigma computes the sum of first n numbers."
      ]
    },
    {
      "cell_type": "code",
      "metadata": {
        "colab": {
          "base_uri": "https://localhost:8080/"
        },
        "id": "sk6_X10fI8mc",
        "outputId": "21a5a2ca-7ad8-4805-b146-43b9649b5f87"
      },
      "source": [
        "def sigma(n) :\n",
        "  return n * (n+1) // 2\n",
        "\n",
        "num = int(input())\n",
        "print( sigma(num) )"
      ],
      "execution_count": null,
      "outputs": [
        {
          "output_type": "stream",
          "name": "stdout",
          "text": [
            "10\n",
            "55\n"
          ]
        }
      ]
    },
    {
      "cell_type": "markdown",
      "metadata": {
        "id": "d4I02mZaJuO4"
      },
      "source": [
        "The following function range_sum computes the sum of integers from a to b by using the sigma function."
      ]
    },
    {
      "cell_type": "code",
      "metadata": {
        "colab": {
          "base_uri": "https://localhost:8080/"
        },
        "id": "pViLs6JvKC83",
        "outputId": "7c5aa5bd-3e5b-4886-914b-98ef63a2cfdf"
      },
      "source": [
        "def sigma(n) :\n",
        "  return n * (n+1) // 2\n",
        "\n",
        "def range_sum(start, end) :\n",
        "  return sigma(end) - sigma(start-1)\n",
        "\n",
        "a,b = map(int,input().split())\n",
        "print( range_sum(a,b) )"
      ],
      "execution_count": null,
      "outputs": [
        {
          "output_type": "stream",
          "name": "stdout",
          "text": [
            "10 5\n",
            "-30\n"
          ]
        }
      ]
    },
    {
      "cell_type": "markdown",
      "metadata": {
        "id": "9n1xKiUCK0CZ"
      },
      "source": [
        "What will happen if you input a and b such that a > b. First make a guess. Then try it out to check if your intuition worked.\n",
        "\n",
        "Adding an **if condition** to make the code more robust. start and end are swapped first in case start > end."
      ]
    },
    {
      "cell_type": "code",
      "metadata": {
        "colab": {
          "base_uri": "https://localhost:8080/"
        },
        "id": "jHp0fF93LX5k",
        "outputId": "ba39778b-75a6-4766-a03e-92df85597e4d"
      },
      "source": [
        "def sigma(n) :\n",
        "  return n * (n+1) // 2\n",
        "\n",
        "def range_sum(start, end) :\n",
        "  if (start > end) :\n",
        "    start, end = end, start\n",
        "  return sigma(end) - sigma(start-1)\n",
        "\n",
        "a,b = map(int,input().split())\n",
        "print( range_sum(a,b) )"
      ],
      "execution_count": null,
      "outputs": [
        {
          "output_type": "stream",
          "name": "stdout",
          "text": [
            "10 5\n",
            "45\n"
          ]
        }
      ]
    }
  ]
}