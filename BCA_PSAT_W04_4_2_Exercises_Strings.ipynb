{
  "nbformat": 4,
  "nbformat_minor": 0,
  "metadata": {
    "colab": {
      "name": "BCA_PSAT_W04_4.2_Exercises_Strings.ipynb",
      "provenance": [],
      "collapsed_sections": []
    },
    "kernelspec": {
      "name": "python3",
      "display_name": "Python 3"
    }
  },
  "cells": [
    {
      "cell_type": "markdown",
      "metadata": {
        "id": "jggy_UtPuiLW"
      },
      "source": [
        "<br>\n",
        "&nbsp; <img src=\"https://www.amrita.edu/ahead/images/aheadlogosticky.svg\" alt=\"AMRITA AHEAD\" width=\"250\"> \n",
        "<table align=\"right\">\n",
        "  <td align=\"left\"><a href=\"https://colab.research.google.com/drive/1jZQ2k4t_jO-DF4ekyHkLAelEe5KoDwzI\">Prev: Strings in Python</a></td>\n",
        "  <td align=\"right\"><a href=\"https://colab.research.google.com/drive/1W3LjjmJj0kTjBUDx62PyUNFmJsMTjcfz\">Next: String built-in functions</a></td>\n",
        "</table>\n",
        "\n",
        "# **Week 4 - Lab 4.2 - Simple Exercises on Strings**\n",
        "\n",
        "For all the exercises mentioned below, write your program in the code segment just below the problem statement. Your program should print \"YES\" if the check succeeds (i.e. acceptable strings) and print \"NO\" otherwise."
      ]
    },
    {
      "cell_type": "markdown",
      "metadata": {
        "id": "d-87D5SiKVa8"
      },
      "source": [
        "\n",
        "1. Write a program that checks if the input string starts with char 'a'.<br>Accept a, amrita, ahead, algorithmic. Reject problem, solving, thinking."
      ]
    },
    {
      "cell_type": "code",
      "metadata": {
        "id": "AQGk6dznhViy",
        "colab": {
          "base_uri": "https://localhost:8080/"
        },
        "outputId": "31932b56-2b1e-4096-da46-4898ef6eb8f2"
      },
      "source": [
        "text = input()\n",
        "if text[0] == 'a' :\n",
        "  print('YES')\n",
        "else :\n",
        "  print('NO')"
      ],
      "execution_count": null,
      "outputs": [
        {
          "output_type": "stream",
          "text": [
            "amrita\n",
            "YES\n"
          ],
          "name": "stdout"
        }
      ]
    },
    {
      "cell_type": "markdown",
      "metadata": {
        "id": "J5mebn_KJ3uy"
      },
      "source": [
        "2. Write a program that checks if the input string starts and ends with the same char.<br>Accept amrita, xerox. Reject ahead, loop."
      ]
    },
    {
      "cell_type": "code",
      "metadata": {
        "id": "3nMRVuKmhW1K"
      },
      "source": [
        ""
      ],
      "execution_count": null,
      "outputs": []
    },
    {
      "cell_type": "markdown",
      "metadata": {
        "id": "6KMz2seGJ0LK"
      },
      "source": [
        "3. Write a program that checks if the input string does not end with the same char it starts with.<br>Accept ahead, loop. Reject amrita, xerox."
      ]
    },
    {
      "cell_type": "code",
      "metadata": {
        "id": "RUD0t6sGhX4I"
      },
      "source": [
        ""
      ],
      "execution_count": null,
      "outputs": []
    },
    {
      "cell_type": "markdown",
      "metadata": {
        "id": "BVXw_OpwJw5a"
      },
      "source": [
        "4. Write a program that checks if the input string contains at least one 'a'.<br>Accept amrita, ahead, algorithm, xyza. Reject problem, thinking."
      ]
    },
    {
      "cell_type": "code",
      "metadata": {
        "id": "b0U4vowxhZL4"
      },
      "source": [
        "\n"
      ],
      "execution_count": null,
      "outputs": []
    },
    {
      "cell_type": "markdown",
      "metadata": {
        "id": "wX_yhZMzJtMk"
      },
      "source": [
        "5. Write a program that checks if the input string contains exactly one a.<br>Accept algorithm, iteration. Reject amrita, ahead, problem."
      ]
    },
    {
      "cell_type": "code",
      "metadata": {
        "id": "ZiSjacDkhaGx"
      },
      "source": [
        ""
      ],
      "execution_count": null,
      "outputs": []
    },
    {
      "cell_type": "markdown",
      "metadata": {
        "id": "I5pn3SrMJpkq"
      },
      "source": [
        "6. Write a program that checks if the input string contains two consecutive e's.<br>Accept engineer, evergreen. Reject amrita, ahead, center."
      ]
    },
    {
      "cell_type": "code",
      "metadata": {
        "id": "J6aHc52Tha2w"
      },
      "source": [
        ""
      ],
      "execution_count": null,
      "outputs": []
    },
    {
      "cell_type": "markdown",
      "metadata": {
        "id": "OUYeRZ-iJmLa"
      },
      "source": [
        "7. Write a program that checks if the input string does not contain two consecutive e's.<br>Accept amrita, ahead, center. Reject see, meet. "
      ]
    },
    {
      "cell_type": "code",
      "metadata": {
        "id": "rIVP5YXRhbsh"
      },
      "source": [
        ""
      ],
      "execution_count": null,
      "outputs": []
    },
    {
      "cell_type": "markdown",
      "metadata": {
        "id": "5dhfqsDcJijD"
      },
      "source": [
        "8. Write a program that checks if the input string contains at most two e's.<br>Accept amrita, ahead, center, green. Reject evergreen, ensemble."
      ]
    },
    {
      "cell_type": "code",
      "metadata": {
        "id": "rAI19HSUhcUA"
      },
      "source": [
        ""
      ],
      "execution_count": null,
      "outputs": []
    },
    {
      "cell_type": "markdown",
      "metadata": {
        "id": "GFIvH_gyJb_s"
      },
      "source": [
        "9. Write a program that checks if the input string contains two u's and three b's.<br>Accept ububb, bubblegum. Reject umbrella, bubble, gum"
      ]
    },
    {
      "cell_type": "code",
      "metadata": {
        "id": "LzUxNjI2hdnR"
      },
      "source": [
        ""
      ],
      "execution_count": null,
      "outputs": []
    },
    {
      "cell_type": "markdown",
      "metadata": {
        "id": "LPPk95QQJYQ6"
      },
      "source": [
        "10. Write a program that checks if the input string contains even number of e's.<br>Accept center, evergreen. Reject amrita, ahead, engineer."
      ]
    },
    {
      "cell_type": "code",
      "metadata": {
        "id": "ZI9BWUn6hedg"
      },
      "source": [
        ""
      ],
      "execution_count": null,
      "outputs": []
    },
    {
      "cell_type": "markdown",
      "metadata": {
        "id": "GtJXT4DSJUt7"
      },
      "source": [
        "11. Write a program that checks if every e in the input string is followed by two s's.<br>Accept success, less, esspresso. Reject ahead, express."
      ]
    },
    {
      "cell_type": "code",
      "metadata": {
        "id": "pAYjGrg0hfHB"
      },
      "source": [
        "# Find the position where 'e' occurs. Check the next 2 positions \n"
      ],
      "execution_count": null,
      "outputs": []
    },
    {
      "cell_type": "markdown",
      "metadata": {
        "id": "iJRlbp8gJQxD"
      },
      "source": [
        "12. Write a program that checks if every e in the input string is preceded by two cc's.<br>Accept success. Reject excess."
      ]
    },
    {
      "cell_type": "code",
      "metadata": {
        "id": "RPYEY1bphf2y"
      },
      "source": [
        ""
      ],
      "execution_count": null,
      "outputs": []
    },
    {
      "cell_type": "markdown",
      "metadata": {
        "id": "JcMvp5yxJMy7"
      },
      "source": [
        "13. Write a program that checks if every a in the input string is preceded by two b's and followed by three c's.<br>Accept bbaccc, xbbacccyzbbaccc. Reject bxbaccc, bbacc, baccc."
      ]
    },
    {
      "cell_type": "code",
      "metadata": {
        "id": "x2NLdJbfhgkj"
      },
      "source": [
        ""
      ],
      "execution_count": null,
      "outputs": []
    },
    {
      "cell_type": "markdown",
      "metadata": {
        "id": "qGhf1Zx_JJAD"
      },
      "source": [
        "14. Write a program that checks if the input string of even length is a palindrome.<br>Accept amma, malayyalam. Reject ahead, malayalam."
      ]
    },
    {
      "cell_type": "code",
      "metadata": {
        "id": "7uDXV8NehhUB"
      },
      "source": [
        ""
      ],
      "execution_count": null,
      "outputs": []
    },
    {
      "cell_type": "markdown",
      "metadata": {
        "id": "Ik56e8T-I6yR"
      },
      "source": [
        "15. Write a program that checks if the input string is a palindrome.<br>Accept amma, malayalam, redivider. Reject ahead."
      ]
    },
    {
      "cell_type": "code",
      "metadata": {
        "id": "U4fS1sebhiFJ"
      },
      "source": [
        ""
      ],
      "execution_count": null,
      "outputs": []
    },
    {
      "cell_type": "markdown",
      "metadata": {
        "id": "-aamQxi2I04l"
      },
      "source": [
        "\n",
        "16. Write a program that counts and prints the number of vowels in the input string.<br>europe --> 4, amrita --> 3."
      ]
    },
    {
      "cell_type": "code",
      "metadata": {
        "id": "lKVdMQxmhiq5"
      },
      "source": [
        ""
      ],
      "execution_count": null,
      "outputs": []
    },
    {
      "cell_type": "markdown",
      "metadata": {
        "id": "Y7I7vIItIwvs"
      },
      "source": [
        "17. Write a program that checks if the number of a's in the input string is equal to the number of b's.<br>Accept aaabbb, ababab, abcabcabc. Reject abacab, ahead."
      ]
    },
    {
      "cell_type": "code",
      "metadata": {
        "id": "vdqpeAPahjdx"
      },
      "source": [
        ""
      ],
      "execution_count": null,
      "outputs": []
    },
    {
      "cell_type": "markdown",
      "metadata": {
        "id": "m7Ldyt5EIjVp"
      },
      "source": [
        "18. Write a program that checks (i) if the input string length is even, it should contain exactly two vowels (ii) if length is odd, it should contain odd number of vowels.<br>Accept team, tiktok, ahead. Reject amrita, online, graduate."
      ]
    },
    {
      "cell_type": "code",
      "metadata": {
        "id": "gWkXvaOMhkPz"
      },
      "source": [
        ""
      ],
      "execution_count": null,
      "outputs": []
    },
    {
      "cell_type": "markdown",
      "metadata": {
        "id": "W0_TUVOCIfB7"
      },
      "source": [
        "19. Write a program that checks if two input strings are same.<br> Accept [amrita,amrita], [ahead,ahead]. Reject [amrita,ahead]."
      ]
    },
    {
      "cell_type": "code",
      "metadata": {
        "id": "jOhNu0M9hlSi"
      },
      "source": [
        ""
      ],
      "execution_count": null,
      "outputs": []
    },
    {
      "cell_type": "markdown",
      "metadata": {
        "id": "hDaDuEgWIGYV"
      },
      "source": [
        "20. Write a program that checks if two input strings are anagrams.<br>Accept [trace,react], [dealer,leader]. Reject [amrita,ahead]"
      ]
    },
    {
      "cell_type": "code",
      "metadata": {
        "id": "3w3618F4hmrR"
      },
      "source": [
        ""
      ],
      "execution_count": null,
      "outputs": []
    }
  ]
}