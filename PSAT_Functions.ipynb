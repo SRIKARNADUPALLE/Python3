{
  "nbformat": 4,
  "nbformat_minor": 0,
  "metadata": {
    "colab": {
      "name": "PSAT_Functions.ipynb",
      "provenance": [],
      "collapsed_sections": []
    },
    "kernelspec": {
      "name": "python3",
      "display_name": "Python 3"
    },
    "language_info": {
      "name": "python"
    }
  },
  "cells": [
    {
      "cell_type": "markdown",
      "metadata": {
        "id": "Oq_Z50YDzu2C"
      },
      "source": [
        "<br>\n",
        "&nbsp; <img src=\"https://www.amrita.edu/ahead/images/aheadlogosticky.svg\" alt=\"AMRITA AHEAD\" width=\"250\"> \n",
        "<table align=\"right\">\n",
        "  <td align=\"left\"></td>\n",
        "  <td align=\"right\"><a href=\"https://colab.research.google.com/drive/1Ub33dhPVJcgbJu8aFHbAe7GXbBbpM6WY\">Next: Recursion</a></td>\n",
        "</table>\n",
        "\n",
        "# **Functions**\n",
        "Functions are used to write modularized code. They allow us to abstract out a 'functionality' and implement as an independent unit. You can view a function as a miniature unit of program which takes input, performs a computation and returns an output. \n",
        "\n",
        "This allows us to partition the code neatly where the correct working of the function code is separated out from the correct working of the code which uses the function. The main advantage is changing the function implementation does not affect its usage since the function interface remains the same."
      ]
    },
    {
      "cell_type": "markdown",
      "metadata": {
        "id": "CevVwsjH3A3w"
      },
      "source": [
        "## **Defining a function**\n",
        "\n",
        "Functions are defined using the keyword *def*. It takes input as function parameters or arguments and potentaily returns an output. The general structure  is as follows:\n",
        "\n",
        "```\n",
        "def <function-name> ( <parameters> ) :\n",
        "    # Implementation\n",
        "    \n",
        "    return <return-value>  # optional\n",
        "```"
      ]
    },
    {
      "cell_type": "markdown",
      "metadata": {
        "id": "S9OSRxcT4WeJ"
      },
      "source": [
        "## **Example 1: Maximum of a list**\n",
        "Let's define a function to compute the maximum of a list.\n",
        "\n",
        "snake_case - Python, C, C++  find_max_index\n",
        "\n",
        "camelCase - Java, Scala, JavaScript - findMaxIndex\n",
        "\n",
        "CamelCase - C# .NET - FindMaxIndex"
      ]
    },
    {
      "cell_type": "code",
      "metadata": {
        "colab": {
          "base_uri": "https://localhost:8080/"
        },
        "id": "mOKmQ0L_znWG",
        "outputId": "7e998796-57d8-4842-a99f-ed93afe056b7"
      },
      "source": [
        "def find_max(a) :    # Function definition, a is formal parameter\n",
        "  max = a[0]\n",
        "  for i in range(1,len(a)) :\n",
        "    if a[i] > max :\n",
        "      max = a[i]\n",
        "  return max         # max is the return value\n",
        "\n",
        "items = list( map(int,input().split()) )\n",
        "largest = find_max(items)    # Function call, items is actual parameter\n",
        "print(largest)"
      ],
      "execution_count": null,
      "outputs": [
        {
          "output_type": "stream",
          "text": [
            "7 3 8 4 1\n",
            "8\n"
          ],
          "name": "stdout"
        }
      ]
    },
    {
      "cell_type": "markdown",
      "metadata": {
        "id": "eC1vO1Ul7uNQ"
      },
      "source": [
        "## **Example 2: Check for Pythagorean triple**\n",
        "Given numbers a, b, c, check if they form a Pythagorean triple. i.e. if square of one number is the sum of squares of other two numbers."
      ]
    },
    {
      "cell_type": "code",
      "metadata": {
        "colab": {
          "base_uri": "https://localhost:8080/"
        },
        "id": "_F9sFCaq8Lbc",
        "outputId": "cb3fa324-4b8f-4ed0-d201-356b3322be88"
      },
      "source": [
        "def is_pythogorean_triple(a,b,c) :\n",
        "  if a**2 == b**2 + c**2 or b**2 == a**2 + c**2 or c**2 == a**2 + b**2 :\n",
        "    return True\n",
        "  else :\n",
        "    return False\n",
        "\n",
        "print( is_pythogorean_triple(3,4,5) )\n",
        "print( is_pythogorean_triple(4,3,5) )\n",
        "print( is_pythogorean_triple(5,4,3) )\n",
        "print( is_pythogorean_triple(4,4,5) )\n",
        "print( is_pythogorean_triple(7,10,40) )\n"
      ],
      "execution_count": null,
      "outputs": [
        {
          "output_type": "stream",
          "name": "stdout",
          "text": [
            "True\n",
            "True\n",
            "True\n",
            "False\n",
            "False\n"
          ]
        }
      ]
    },
    {
      "cell_type": "markdown",
      "metadata": {
        "id": "Uecs4lxF9qBQ"
      },
      "source": [
        "## **Example 3: Generate Pythagorean Triple**\n",
        "Generate all Pythogorean triplets below n. The function generate_pythagorean_triplets() generates all possible triplets and calls is_pythagorean_triplet () to determine if each triplet is pythagorean. "
      ]
    },
    {
      "cell_type": "code",
      "metadata": {
        "id": "KiabpTWo-BG-"
      },
      "source": [
        "def generate_pythagorean_triplets(n) :\n",
        "  for a in range(1,n+1) :\n",
        "    for b in range(a+1,n+1) :\n",
        "      for c in range(b+1,n+1) :\n",
        "        if is_pythogorean_triple(a,b,c) :\n",
        "          print(a,b,c)\n",
        "\n",
        "n = int(input())\n",
        "generate_pythagorean_triplets(n)"
      ],
      "execution_count": null,
      "outputs": []
    },
    {
      "cell_type": "markdown",
      "metadata": {
        "id": "vKAVXnyIALuv"
      },
      "source": [
        "## **Final remarks**\n",
        "\n",
        "- Functions are an integral part of the programming. Nobody writes one monolithic piece of code. \n",
        "- Functions facilitate separation of concerns. i.e. the person implementing the function focuses on the correctness and efficiency of the function and the person using the function does not have to worry about. \n",
        "- Each function can be tested individually without the need for the rest of the code.\n",
        "- Changing a function implementation will not affect the user of the function since the interface remains the same.\n",
        "- Any programmer worth a salt will break the implementation into functions."
      ]
    },
    {
      "cell_type": "code",
      "source": [
        "def f(s, e) :\n",
        "   if s == e :  # base case\n",
        "      print(s)\n",
        "   else :       # recurse case\n",
        "      f(s+1, e)\n",
        "      print(s)\n",
        "      f(s+1, e)\n",
        "\n",
        "f(1,5)"
      ],
      "metadata": {
        "id": "QKvL9yJGvvNC"
      },
      "execution_count": null,
      "outputs": []
    }
  ]
}