{
  "nbformat": 4,
  "nbformat_minor": 0,
  "metadata": {
    "colab": {
      "name": "BCA_PSAT_W04_4.0_Intro_to_Strings.ipynb",
      "provenance": [],
      "collapsed_sections": []
    },
    "kernelspec": {
      "name": "python3",
      "display_name": "Python 3"
    },
    "language_info": {
      "name": "python"
    }
  },
  "cells": [
    {
      "cell_type": "markdown",
      "metadata": {
        "id": "fimcOzxIireb"
      },
      "source": [
        "<br>\n",
        "&nbsp; <img src=\"https://www.amrita.edu/ahead/images/aheadlogosticky.svg\" alt=\"AMRITA AHEAD\" width=\"250\"> \n",
        "<table align=\"right\">\n",
        "  <td align=\"left\"></td>\n",
        "  <td align=\"right\"><a href=\"https://colab.research.google.com/drive/1jZQ2k4t_jO-DF4ekyHkLAelEe5KoDwzI\">Next: Working with strings</a></td>\n",
        "</table>\n",
        "\n",
        "# **Week 4 - Lab 4.0 - A Gentle Introduction to Strings**\n",
        "\n",
        "This is a tutorial on working with strings. Again, you don't need to memorize. Just know that what can be done with strings. You can always refer back to the syntax here and use them in your problem solving appropriately.\n",
        "\n",
        "What is a string? It is a sequence of characters, shortly chars. Each char is an alphabet, digit, special symbols you find in the keyboard such as $, @ or &, control chars such as ctrl, alt, esc, backspace, delete. The internal representation of chars will be covered in Computer Essentials course."
      ]
    },
    {
      "cell_type": "markdown",
      "metadata": {
        "id": "uQ4HLQuEkCqa"
      },
      "source": [
        "## **1a. Defining a string variable**\n",
        "Create a string variable by assigning a string value to a variable."
      ]
    },
    {
      "cell_type": "code",
      "metadata": {
        "id": "bf6SbayTiXqY",
        "colab": {
          "base_uri": "https://localhost:8080/"
        },
        "outputId": "e3506a64-302c-44aa-c6f5-fca5e32ebc49"
      },
      "source": [
        "hello = 'Hello Amrita'\n",
        "print(hello)"
      ],
      "execution_count": null,
      "outputs": [
        {
          "output_type": "stream",
          "name": "stdout",
          "text": [
            "Hello Amrita\n"
          ]
        }
      ]
    },
    {
      "cell_type": "markdown",
      "metadata": {
        "id": "FWlrGQI3k5Ux"
      },
      "source": [
        "## **1b. Defining using double quotes**\n",
        "\n",
        "You can define a string varaible by giving the value in double quotes."
      ]
    },
    {
      "cell_type": "code",
      "metadata": {
        "id": "eKAHUriZlNJX",
        "colab": {
          "base_uri": "https://localhost:8080/"
        },
        "outputId": "f5d29044-3e64-4606-ea38-a73071f3e359"
      },
      "source": [
        "hi = \"Hi Amrita\"\n",
        "print(hi)\n"
      ],
      "execution_count": null,
      "outputs": [
        {
          "output_type": "stream",
          "name": "stdout",
          "text": [
            "Hi Amrita\n"
          ]
        }
      ]
    },
    {
      "cell_type": "markdown",
      "metadata": {
        "id": "utj63KfllkUq"
      },
      "source": [
        "## **1c. Why single and double quotes?**\n",
        "In case you are wondering why use both single and double quotes for defining strings, it is primarily to allow you to define a string which has one type of quotes."
      ]
    },
    {
      "cell_type": "code",
      "metadata": {
        "id": "QIiVXqJ8mCbI",
        "colab": {
          "base_uri": "https://localhost:8080/"
        },
        "outputId": "8a76e747-57f7-4406-e728-3c5952c68965"
      },
      "source": [
        "news = \"Amrita is India's No.1 Private University\" # Single quote is used within the string\n",
        "print(news)"
      ],
      "execution_count": null,
      "outputs": [
        {
          "output_type": "stream",
          "name": "stdout",
          "text": [
            "Amrita is India's No.1 Private University\n"
          ]
        }
      ]
    },
    {
      "cell_type": "markdown",
      "metadata": {
        "id": "lnCnuF_zy9hu"
      },
      "source": [
        "## **1d. Zero length string**\n",
        "\n",
        "You can create a string with zero length."
      ]
    },
    {
      "cell_type": "code",
      "metadata": {
        "id": "xprTSN4vzO_X"
      },
      "source": [
        "empty = ''     # '' is different from ' '.\n",
        "print(empty)"
      ],
      "execution_count": null,
      "outputs": []
    },
    {
      "cell_type": "markdown",
      "metadata": {
        "id": "snpjXzUimrgQ"
      },
      "source": [
        "## **2a. Reading string from user**\n",
        "\n",
        "You can read a string from the user and assign to a variable."
      ]
    },
    {
      "cell_type": "code",
      "metadata": {
        "id": "qo3nD_QpnJuo",
        "colab": {
          "base_uri": "https://localhost:8080/"
        },
        "outputId": "917206b6-4e19-4b1f-ae78-a20dd8629cc4"
      },
      "source": [
        "name = input()\n",
        "print('Hello', name, '!')"
      ],
      "execution_count": null,
      "outputs": [
        {
          "output_type": "stream",
          "name": "stdout",
          "text": [
            "PSAT students\n",
            "Hello PSAT students !\n"
          ]
        }
      ]
    },
    {
      "cell_type": "markdown",
      "metadata": {
        "id": "HltR6mKLn29o"
      },
      "source": [
        "## **2b. Reading with prompt text**\n",
        "It is possible to print a prompt text while reading input so that the user knows what the program is expecting.\n",
        "\n",
        "For problems in codeforces you will not need the prompt text since the input format is specified."
      ]
    },
    {
      "cell_type": "code",
      "metadata": {
        "id": "c9Wuk45yoOZx",
        "colab": {
          "base_uri": "https://localhost:8080/"
        },
        "outputId": "808dfa0f-eefd-41b8-d3e0-a07413f11332"
      },
      "source": [
        "name = input('Enter your name: ')\n",
        "print('Hello', name)"
      ],
      "execution_count": null,
      "outputs": [
        {
          "output_type": "stream",
          "name": "stdout",
          "text": [
            "Enter your name\n",
            "Amrita\n",
            "Hello Amrita\n"
          ]
        }
      ]
    },
    {
      "cell_type": "markdown",
      "metadata": {
        "id": "x2tWV8JhrSxA"
      },
      "source": [
        "## **2c. The whole sentence is read**\n",
        "\n",
        "Note that the whole sentence is read by input(). Not a single word. Try giving an entire sentence as input. (Python is cool)"
      ]
    },
    {
      "cell_type": "code",
      "metadata": {
        "id": "LuA2lMoxroAP",
        "colab": {
          "base_uri": "https://localhost:8080/"
        },
        "outputId": "ce8c2890-1f35-4c6f-848d-29aa197d7ade"
      },
      "source": [
        "text = input() \n",
        "print(text)\n"
      ],
      "execution_count": null,
      "outputs": [
        {
          "output_type": "stream",
          "name": "stdout",
          "text": [
            "I am a PSAT student\n",
            "I am a PSAT student\n"
          ]
        }
      ]
    },
    {
      "cell_type": "markdown",
      "metadata": {
        "id": "sB69mfE5pL2g"
      },
      "source": [
        "## **3a. Finding the length of the string**\n",
        "You use len() function to know the length of the string."
      ]
    },
    {
      "cell_type": "code",
      "metadata": {
        "id": "h9sAzVpkp2yO",
        "colab": {
          "base_uri": "https://localhost:8080/"
        },
        "outputId": "9c6c2e28-2d79-4f89-f2a7-9158d19624cb"
      },
      "source": [
        "name = input()\n",
        "print('Length of', name, 'is', len(name))"
      ],
      "execution_count": null,
      "outputs": [
        {
          "output_type": "stream",
          "name": "stdout",
          "text": [
            "I am a PSAT student\n",
            "Length of I am a PSAT student is 19\n"
          ]
        }
      ]
    },
    {
      "cell_type": "markdown",
      "metadata": {
        "id": "ja9vw86qsM0d"
      },
      "source": [
        "## **4a. Access the first char of the string**\n",
        "\n",
        "The first char is accessed using the string variable and index. The starting index is 0, not 1. If the string variable is named **text**, text[0] denotes the first char, text[1] the second char, so on and so forth."
      ]
    },
    {
      "cell_type": "code",
      "metadata": {
        "id": "-SkVzmMGs-74",
        "colab": {
          "base_uri": "https://localhost:8080/"
        },
        "outputId": "6086249e-27c8-41aa-c308-41a777c932a5"
      },
      "source": [
        "text = 'Hello Amrita'\n",
        "print('First char is', text[0]) # prints H"
      ],
      "execution_count": null,
      "outputs": [
        {
          "output_type": "stream",
          "name": "stdout",
          "text": [
            "First char is (\n"
          ]
        }
      ]
    },
    {
      "cell_type": "markdown",
      "metadata": {
        "id": "7nhOnRwQvfn3"
      },
      "source": [
        "## **4b. Access the last char of the string**\n",
        "Use len() function to find the length of the string. If n is the length of the string, then the last char is at index n-1. Remember, we started from 0."
      ]
    },
    {
      "cell_type": "code",
      "metadata": {
        "id": "cn3TVE1qv6Zn",
        "colab": {
          "base_uri": "https://localhost:8080/"
        },
        "outputId": "9cf37cfa-c876-445d-ae00-fa4e074138c7"
      },
      "source": [
        "text = 'Hello Amrita'\n",
        "n = len(text)\n",
        "print('Last char is', text[n-1])  # print a"
      ],
      "execution_count": null,
      "outputs": [
        {
          "output_type": "stream",
          "name": "stdout",
          "text": [
            "Last char is a\n"
          ]
        }
      ]
    },
    {
      "cell_type": "markdown",
      "metadata": {
        "id": "_Dty6krixlwX"
      },
      "source": [
        "## **4c. Check if first and last char are same**\n",
        "\n",
        "Try giving different inputs and see for yourself."
      ]
    },
    {
      "cell_type": "code",
      "metadata": {
        "id": "Wt2QKCXTx6dE",
        "colab": {
          "base_uri": "https://localhost:8080/"
        },
        "outputId": "e08a7150-e762-4e1c-cf3b-a8e0be0bee0c"
      },
      "source": [
        "text = input()\n",
        "n = len(text)\n",
        "if (text[0] == text[n-1]) :\n",
        "  print(True)\n",
        "else :\n",
        "  print(False)"
      ],
      "execution_count": null,
      "outputs": [
        {
          "output_type": "stream",
          "name": "stdout",
          "text": [
            "Amrita\n",
            "False\n"
          ]
        }
      ]
    },
    {
      "cell_type": "markdown",
      "metadata": {
        "id": "w8HhAH4mxBW4"
      },
      "source": [
        "## **4d. Accessing every char of the string**\n",
        "\n",
        "You can iterate through the indices 0 to len-1 to access every char."
      ]
    },
    {
      "cell_type": "code",
      "metadata": {
        "id": "cdoSbXqjxOm3",
        "colab": {
          "base_uri": "https://localhost:8080/"
        },
        "outputId": "73f24e55-7c77-4d16-e335-e28f8570a222"
      },
      "source": [
        "text = 'Hello Amrita'\n",
        "n = len(text)\n",
        "for i in range(n) :  # start from 0, count until n-1, increasing by 1 at a time\n",
        "  print(text[i]) # print ith char"
      ],
      "execution_count": null,
      "outputs": [
        {
          "output_type": "stream",
          "name": "stdout",
          "text": [
            "H\n",
            "e\n",
            "l\n",
            "l\n",
            "o\n",
            " \n",
            "A\n",
            "m\n",
            "r\n",
            "i\n",
            "t\n",
            "a\n"
          ]
        }
      ]
    },
    {
      "cell_type": "markdown",
      "metadata": {
        "id": "7BkI1ffkx34O"
      },
      "source": [
        "## **4e. Check if all chars are same**\n",
        "Iterate through the string and see if successive chars are same. If so, don't do anything. If not, print so."
      ]
    },
    {
      "cell_type": "code",
      "metadata": {
        "id": "TwMCQR87z0Fu",
        "colab": {
          "base_uri": "https://localhost:8080/"
        },
        "outputId": "b388dc44-1517-4c1b-c39d-787c1db5e264"
      },
      "source": [
        "text = input()\n",
        "n = len(text)\n",
        "result = 'All chars are same'\n",
        "for i in range(n-1) :  # Why n-1? Can you guess?\n",
        "  if text[i] != text[i+1] :\n",
        "    result = 'All chars not same'\n",
        "    break\n",
        "print(result)"
      ],
      "execution_count": null,
      "outputs": [
        {
          "output_type": "stream",
          "name": "stdout",
          "text": [
            "abcd\n",
            "All chars not same\n"
          ]
        }
      ]
    },
    {
      "cell_type": "markdown",
      "metadata": {
        "id": "XRTQVtnuobys"
      },
      "source": [
        "## **5a. Slicing a string**\n",
        "\n",
        "You can split part of a string from one index *upto* another."
      ]
    },
    {
      "cell_type": "code",
      "metadata": {
        "id": "BASG8hE-ooMu",
        "colab": {
          "base_uri": "https://localhost:8080/"
        },
        "outputId": "23fb4015-d642-45e1-f019-632c39109203"
      },
      "source": [
        "text = \"Hello Amrita\"\n",
        "\n",
        "# Print first 3 chars. Positions 0..2.\n",
        "begin = text[0:3]  # 0 is not necessary. It can be just text[:3]\n",
        "print('First 3 chars =', begin)\n",
        "\n",
        "# Print last 3 chars. Positions n-3, n-2, n-1\n",
        "n = len(text)\n",
        "end = text[n-3:n]  # n is not necessary. It can be just text[n-3:]\n",
        "print('Last 3 chars =', end)\n",
        "\n",
        "# Print a range in the middle. Positions 3..6\n",
        "middle = text[3:7]\n",
        "print('4 chars in between =', middle)\n"
      ],
      "execution_count": null,
      "outputs": [
        {
          "output_type": "stream",
          "name": "stdout",
          "text": [
            "First 3 chars = Hel\n",
            "Last 3 chars = ita\n",
            "4 chars in between = lo A\n"
          ]
        }
      ]
    },
    {
      "cell_type": "markdown",
      "metadata": {
        "id": "J_YtFYsmrbPf"
      },
      "source": [
        "## **5b. Concatenating (or joining) two strings**\n",
        "You can concatenate two or more strings by using the plus operator."
      ]
    },
    {
      "cell_type": "code",
      "metadata": {
        "id": "JNhBQTjOs_te",
        "colab": {
          "base_uri": "https://localhost:8080/"
        },
        "outputId": "425c213f-f757-4749-ba79-bbb3c1499d0e"
      },
      "source": [
        "one = 'Hello'\n",
        "two = 'Amrita'\n",
        "print(one + two)\n",
        "print(one + ' ' + two)  # Same effect as print(one,two)"
      ],
      "execution_count": null,
      "outputs": [
        {
          "output_type": "stream",
          "name": "stdout",
          "text": [
            "2342\n",
            "23 42\n"
          ]
        }
      ]
    },
    {
      "cell_type": "markdown",
      "metadata": {
        "id": "outbLS2Qtrgj"
      },
      "source": [
        "## **6a. Checking equality of strings**\n"
      ]
    },
    {
      "cell_type": "code",
      "metadata": {
        "id": "xJzrP8Jit9sa",
        "colab": {
          "base_uri": "https://localhost:8080/"
        },
        "outputId": "bb66518a-8e29-4b31-9fbb-68cdde7007d5"
      },
      "source": [
        "one = 'Hello'\n",
        "two = 'Hello'\n",
        "three = 'Amrita'\n",
        "print(one == two)\n",
        "print(one == three)"
      ],
      "execution_count": null,
      "outputs": [
        {
          "output_type": "stream",
          "name": "stdout",
          "text": [
            "True\n",
            "False\n"
          ]
        }
      ]
    },
    {
      "cell_type": "markdown",
      "metadata": {
        "id": "KiBvPyM1uY0d"
      },
      "source": [
        "## **6b. Comparing two strings (lexicographic order)**\n",
        "A string s is smaller than the other string t if s will appear before t in a dictionary.\n"
      ]
    },
    {
      "cell_type": "code",
      "metadata": {
        "id": "ZpafLB-luISc",
        "colab": {
          "base_uri": "https://localhost:8080/"
        },
        "outputId": "3e6a87cf-6835-45be-b69b-92a8312f282a"
      },
      "source": [
        "one = 'Hello'\n",
        "two = 'Amrita'\n",
        "three = 'Hi'\n",
        "print (one < two)\n",
        "print(one < three)"
      ],
      "execution_count": null,
      "outputs": [
        {
          "output_type": "stream",
          "name": "stdout",
          "text": [
            "False\n",
            "True\n"
          ]
        }
      ]
    },
    {
      "cell_type": "markdown",
      "metadata": {
        "id": "O_bKHiIflRei"
      },
      "source": [
        "## **7a. Modify a char in a string - Not possible**\n",
        "You **cannot modify** a string once created. Please run the program below and see what happens.\n",
        "\n",
        "The reason will be explained later. "
      ]
    },
    {
      "cell_type": "code",
      "metadata": {
        "id": "DxhmYCcZld8u",
        "colab": {
          "base_uri": "https://localhost:8080/",
          "height": 231
        },
        "outputId": "c62c8be5-7cbc-4a58-f090-a00588349ab3"
      },
      "source": [
        "text = \"Hello Amrita\"\n",
        "print(text)\n",
        "text[0] = 'J'\n",
        "print(text)"
      ],
      "execution_count": null,
      "outputs": [
        {
          "output_type": "stream",
          "name": "stdout",
          "text": [
            "Hello Amrita\n"
          ]
        },
        {
          "output_type": "error",
          "ename": "TypeError",
          "evalue": "ignored",
          "traceback": [
            "\u001b[0;31m---------------------------------------------------------------------------\u001b[0m",
            "\u001b[0;31mTypeError\u001b[0m                                 Traceback (most recent call last)",
            "\u001b[0;32m<ipython-input-48-b10153b0cd0f>\u001b[0m in \u001b[0;36m<module>\u001b[0;34m()\u001b[0m\n\u001b[1;32m      1\u001b[0m \u001b[0mtext\u001b[0m \u001b[0;34m=\u001b[0m \u001b[0;34m\"Hello Amrita\"\u001b[0m\u001b[0;34m\u001b[0m\u001b[0;34m\u001b[0m\u001b[0m\n\u001b[1;32m      2\u001b[0m \u001b[0mprint\u001b[0m\u001b[0;34m(\u001b[0m\u001b[0mtext\u001b[0m\u001b[0;34m)\u001b[0m\u001b[0;34m\u001b[0m\u001b[0;34m\u001b[0m\u001b[0m\n\u001b[0;32m----> 3\u001b[0;31m \u001b[0mtext\u001b[0m\u001b[0;34m[\u001b[0m\u001b[0;36m0\u001b[0m\u001b[0;34m]\u001b[0m \u001b[0;34m=\u001b[0m \u001b[0;34m'J'\u001b[0m\u001b[0;34m\u001b[0m\u001b[0;34m\u001b[0m\u001b[0m\n\u001b[0m\u001b[1;32m      4\u001b[0m \u001b[0mprint\u001b[0m\u001b[0;34m(\u001b[0m\u001b[0mtext\u001b[0m\u001b[0;34m)\u001b[0m\u001b[0;34m\u001b[0m\u001b[0;34m\u001b[0m\u001b[0m\n",
            "\u001b[0;31mTypeError\u001b[0m: 'str' object does not support item assignment"
          ]
        }
      ]
    },
    {
      "cell_type": "markdown",
      "metadata": {
        "id": "dtm_qOVKntun"
      },
      "source": [
        "## **7b. But you can create another string**\n",
        "You can create another string with desired modification by slicing and concatenation."
      ]
    },
    {
      "cell_type": "code",
      "metadata": {
        "id": "fxBsZE7Tn8zP",
        "colab": {
          "base_uri": "https://localhost:8080/"
        },
        "outputId": "9e03c043-aa72-474a-e424-8e6f64fc1c2c"
      },
      "source": [
        "first = \"Hello Amrita\"\n",
        "second = 'J' + first[1:]\n",
        "print(first, second)"
      ],
      "execution_count": null,
      "outputs": [
        {
          "output_type": "stream",
          "name": "stdout",
          "text": [
            "Hello Amrita Jello Amrita\n"
          ]
        }
      ]
    }
  ]
}