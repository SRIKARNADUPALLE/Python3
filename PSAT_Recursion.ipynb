{
  "nbformat": 4,
  "nbformat_minor": 0,
  "metadata": {
    "colab": {
      "name": "PSAT_Recursion.ipynb",
      "provenance": [],
      "collapsed_sections": []
    },
    "kernelspec": {
      "name": "python3",
      "display_name": "Python 3"
    },
    "language_info": {
      "name": "python"
    }
  },
  "cells": [
    {
      "cell_type": "markdown",
      "source": [
        "<br>\n",
        "&nbsp; <img src=\"https://www.amrita.edu/ahead/images/aheadlogosticky.svg\" alt=\"AMRITA AHEAD\" width=\"250\"> \n",
        "<table align=\"right\">\n",
        "  <td align=\"left\"><a href=\"https://colab.research.google.com/drive/1M4vzs3dXeEgDYw9_nJ7Z1OgAI8MYpBev\">Prev: Functions</a></td>\n",
        "  <td align=\"right\"></td>\n",
        "</table>\n",
        "\n",
        "# **Recursion - Practice Exercises**\n",
        "\n",
        "This page contains a list of problems, 3 example problems covered in the class/videos and 4 practice problems to be solved as exercises."
      ],
      "metadata": {
        "id": "Mc5AsgD_bXW7"
      }
    },
    {
      "cell_type": "markdown",
      "source": [
        "## **Example 1: Array sum**\n",
        "\n",
        "Given a list/array a[] of size n, determine the sum of the elements using recursion. This problem was dealt in the video."
      ],
      "metadata": {
        "id": "U79c1_4ofJSB"
      }
    },
    {
      "cell_type": "code",
      "source": [
        "def recursive_sum(a) :\n",
        "  # Write your code here\n",
        "\n",
        "a = list(map(int, input().split()))\n",
        "s = recursive_sum(a)\n",
        "print(s)"
      ],
      "metadata": {
        "id": "XN_bvPHtfXUw"
      },
      "execution_count": null,
      "outputs": []
    },
    {
      "cell_type": "markdown",
      "source": [
        "## **Example 2: Array max**\n",
        "\n",
        "Given a list/array a[] of size n, determine the maximum element using recursion. This problem was dealt in the video."
      ],
      "metadata": {
        "id": "92RkeJ7qdJ2C"
      }
    },
    {
      "cell_type": "code",
      "execution_count": null,
      "metadata": {
        "id": "sYfBFVmdbP4b"
      },
      "outputs": [],
      "source": [
        "def recursive_max(a) :\n",
        "  # Write your code here\n",
        "\n",
        "a = list(map(int, input().split()))\n",
        "m = recursive_max(a)\n",
        "print(m)"
      ]
    },
    {
      "cell_type": "markdown",
      "source": [
        "## **Example 3: Search an element in an array**\n",
        "\n",
        "Given a list/array a[] and a key, determine if key k is present in a[] using recursion. If so, return True, otherwise False. This problem was dealt in the video."
      ],
      "metadata": {
        "id": "MmTaInjWfthF"
      }
    },
    {
      "cell_type": "code",
      "source": [
        "def recursive_search(a, k) :\n",
        "  # Write your code here\n",
        "\n",
        "a = list(map(int, input().split()))\n",
        "k = int(input())\n",
        "m = recursive_max(a, k)"
      ],
      "metadata": {
        "id": "tG2gtqnkgDDf"
      },
      "execution_count": null,
      "outputs": []
    },
    {
      "cell_type": "markdown",
      "source": [
        "## **Exercise 1: Factorial**\n",
        "\n",
        "Given a positive integer n, determine n! using recursion.\n",
        "\n",
        "fact(n) = n * (n-1) * ..... * 1"
      ],
      "metadata": {
        "id": "X2yoZkU1gj9h"
      }
    },
    {
      "cell_type": "code",
      "source": [
        "# Your program here\n",
        "\n"
      ],
      "metadata": {
        "id": "Auvp5hEZg7ae"
      },
      "execution_count": null,
      "outputs": []
    },
    {
      "cell_type": "markdown",
      "source": [
        "## **Exercise 2: Fibonacci number**\n",
        "\n",
        "Given a positive integer n, determine fibonacci(n) using recursion."
      ],
      "metadata": {
        "id": "bSd0UlgJg9n_"
      }
    },
    {
      "cell_type": "code",
      "source": [
        "# Your program here\n",
        "fib(n) = fib(n-1) + fib(n-2)\n",
        "fib(0) = 0\n",
        "fib(1) = 1\n",
        "\n"
      ],
      "metadata": {
        "id": "HK8_IpZgharm"
      },
      "execution_count": null,
      "outputs": []
    },
    {
      "cell_type": "markdown",
      "source": [
        "## **Exercise 3: Palindrome check**\n",
        "\n",
        "Given a string s, determine if it is a palindrome using recursion."
      ],
      "metadata": {
        "id": "ce4GJXafhd0I"
      }
    },
    {
      "cell_type": "code",
      "source": [
        "# Your program here\n",
        "\n"
      ],
      "metadata": {
        "id": "qKfV3XXrhnMm"
      },
      "execution_count": null,
      "outputs": []
    },
    {
      "cell_type": "markdown",
      "source": [
        "## **Exercise 4: Euclid GCD**\n",
        "\n",
        "Given two integers a and b, determine the GCD(a,b) using recursion."
      ],
      "metadata": {
        "id": "KsXrk-9Ihp5g"
      }
    },
    {
      "cell_type": "code",
      "source": [
        "## Your program here\n",
        "#gcd(a,b) = gcd(b, a mod b) base case b = 0, a is the answer\n",
        "\n"
      ],
      "metadata": {
        "id": "nklj0CI2iMBf"
      },
      "execution_count": null,
      "outputs": []
    }
  ]
}